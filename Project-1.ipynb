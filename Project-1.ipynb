{
 "cells": [
  {
   "cell_type": "markdown",
   "id": "6a2b882d",
   "metadata": {
    "toc": true
   },
   "source": [
    "<h1>Table of Contents<span class=\"tocSkip\"></span></h1>\n",
    "<div class=\"toc\"><ul class=\"toc-item\"></ul></div>"
   ]
  },
  {
   "cell_type": "markdown",
   "id": "dd948b89",
   "metadata": {},
   "source": [
    "# Course Project 1"
   ]
  },
  {
   "cell_type": "markdown",
   "id": "c02242ad",
   "metadata": {},
   "source": [
    "**Policy**\n",
    "\n",
    "1. You may use your own or any software packages/module/codes to do this project. \n",
    "2. The project has to be done in groups of 2-4 persons each working together to complete all the tasks. Only on report for a group needs to be submitted. \n",
    "3. You shall form your own group. The same group may work together again in the 2nd (final) course project. \n",
    "4. The report should be no more than 20 pages, including one page describing the contributions of each of the members in the group, figures, tables and codes. \n",
    "5. You are encouraged to do beyond the described tasks along with the central topic. Quality and innovative work will be greatly rewarded. "
   ]
  },
  {
   "cell_type": "markdown",
   "id": "44e735ed",
   "metadata": {},
   "source": [
    "**Problem statement**\n",
    "\n",
    "Consider a problem with 2 feature variables, $\\mathbf{x}=[x_1 \\;\\;\\; x_2]$ where $-4.0 \\le x_1 \\le 4.0$, and $-4.0 \\le x_2 \\le 4.0 $. Assume a true label function has the following form known as by-linear function:  \n",
    "\n",
    "\\begin{equation} \\label{eqHW3-1}\n",
    "y(\\mathbf{x})= c_0 + c_1 x_1 + c_2 x_2 + c_3 x_1 x_2\n",
    "\\end{equation} \n",
    "\n",
    "where $c_i (i=0,1,2,3) $ are given constants of real scalar numbers. In the numerical study, use:\n",
    "\n",
    "\\begin{equation} \\label{eqHW3-2}\n",
    "c_0 = 2.1, c_1 = 3.8, c_2 = 1.8, c_3 = 0.5 \n",
    "\\end{equation}  \n",
    "\n",
    "1. Construct a prediction function with proper set of learning parameters, that is capable of predicting the true label function. Define a loss function, and use it to design a possible procedure that is capable of leading to a correct prediction analytically. \n",
    "\n",
    "2. Use a dataset with 4 data points. Define a proper loss function and derive formulas that leads to a unique solution in predicting the true label function analytically. Discuss about the conditions for the uniqueness. \n",
    "\n",
    "3. Create quality dataset each with sufficient number of numerical data points with the numerical label values, using the given true label function. Define a proper loss function and a (Python) code to make predictions. Show that the constants given in Eq.(\\ref{eqHW3-2}) are reproduced from the dataset created by your code. Test your code thoroughly, provide proper conditions on safe-use of your code, and list also possible issues when using your code. \n",
    "\n",
    "4. Create poor dataset that has deficiency in the data matrix. Repeat task 3 and discuss about the possible problems, find a solution to overcome it, and test you solution in a code. \n",
    "\n",
    "5. Create poor dataset that has sufficient data points, but with parallel data points. Repeat task 3 and discuss about the possible problems, find a solution to overcome it, and test you solution in a code.\n",
    "\n",
    "6. Discuss possible issues if the features space dimension is very high, say $p=10,000$. \n",
    "\n",
    "7. Discuss your strategy to construct a neural network to do task 3. "
   ]
  },
  {
   "attachments": {},
   "cell_type": "markdown",
   "id": "949b6426",
   "metadata": {},
   "source": [
    "Question 1"
   ]
  },
  {
   "attachments": {},
   "cell_type": "markdown",
   "id": "11d45b92",
   "metadata": {},
   "source": [
    "Question 2"
   ]
  },
  {
   "attachments": {},
   "cell_type": "markdown",
   "id": "7be2428c",
   "metadata": {},
   "source": [
    "Question 3: Code"
   ]
  },
  {
   "cell_type": "code",
   "execution_count": 10,
   "id": "b7ad8091",
   "metadata": {},
   "outputs": [],
   "source": [
    "import numpy as np\n",
    "data_size = 20\n",
    "x1 = np.random.uniform(low=-4, high=4, size=(data_size,))\n",
    "x2 = np.random.uniform(low=-4, high=4, size=(data_size,))\n",
    "x1x2 = x1*x2\n",
    "b = np.ones(len(x1))\n",
    "X = np.array([b,x1,x2,x1x2]).T\n",
    "# w1= 3.8, w2= 1.8, w3= 0.5, b= 2.1\n",
    "W_r = np.array([2.1,3.8,1.8,0.5],dtype=np.float32)# r->real\n",
    "W = np.array([0,0,0,0])  # for estimation\n",
    "Y = np.array([x@W_r for x in X],dtype=np.float32)"
   ]
  },
  {
   "cell_type": "code",
   "execution_count": 11,
   "id": "11a888c1",
   "metadata": {},
   "outputs": [],
   "source": [
    "def forward(X):\n",
    "    return np.dot(X,W)\n",
    "def loss(Y,Y_pred):\n",
    "    return ((np.linalg.norm(Y_pred-Y))**2)\n",
    "def gradient(X,Y,Y_pred):\n",
    "    return X*(Y_pred-Y)"
   ]
  },
  {
   "cell_type": "code",
   "execution_count": 12,
   "id": "596d9bc3",
   "metadata": {},
   "outputs": [
    {
     "name": "stdout",
     "output_type": "stream",
     "text": [
      "[2.0999998  3.79999991 1.7999999  0.49999997]\n"
     ]
    }
   ],
   "source": [
    "learning_rate,num_epoch = 0.001,10000\n",
    "for epoch in range(num_epoch):\n",
    "    for i,x in enumerate(X):\n",
    "        y_pred  = forward(x)\n",
    "        l       = loss(y_pred,Y[i])\n",
    "        dw      = gradient(x,Y[i],y_pred)\n",
    "        W       = (W - dw*learning_rate)\n",
    "    # print(f'epoch:{epoch} | loss:{l:.8f}')\n",
    "print(W)"
   ]
  },
  {
   "attachments": {},
   "cell_type": "markdown",
   "id": "07447e6a",
   "metadata": {},
   "source": [
    "Question 3: Discussion"
   ]
  },
  {
   "attachments": {},
   "cell_type": "markdown",
   "id": "97aefd60",
   "metadata": {},
   "source": [
    "Question 4: Code"
   ]
  },
  {
   "cell_type": "code",
   "execution_count": 13,
   "id": "2c80731f",
   "metadata": {},
   "outputs": [],
   "source": [
    "data_size = 3\n",
    "# increase data size with duplicates (already rank deficient but will further show with duplicate rows)\n",
    "x1 = np.random.uniform(low=-4, high=4, size=(data_size,))\n",
    "x2 = np.random.uniform(low=-4, high=4, size=(data_size,))\n",
    "x1x2 = x1*x2\n",
    "b = np.ones(len(x1))\n",
    "X = np.array([b,x1,x2,x1x2]).T\n",
    "# w1= 3.8, w2= 1.8, w3= 0.5, b= 2.1\n",
    "W_r = np.array([2.1,3.8,1.8,0.5],dtype=np.float32)# r->real\n",
    "W = np.array([0,0,0,0])  # for estimation\n",
    "Y = np.array([x@W_r for x in X],dtype=np.float32)"
   ]
  },
  {
   "cell_type": "code",
   "execution_count": 14,
   "id": "c7b432ab",
   "metadata": {},
   "outputs": [],
   "source": [
    "def forward(X):\n",
    "    return np.dot(X,W)\n",
    "def loss(Y,Y_pred):\n",
    "    return ((np.linalg.norm(Y_pred-Y))**2)\n",
    "def gradient(X,Y,Y_pred):\n",
    "    return X*(Y_pred-Y)"
   ]
  },
  {
   "cell_type": "code",
   "execution_count": 15,
   "id": "5059e385",
   "metadata": {},
   "outputs": [
    {
     "name": "stdout",
     "output_type": "stream",
     "text": [
      "[ 1.61459227 -0.10554917  0.04769431  0.9694322 ]\n"
     ]
    }
   ],
   "source": [
    "learning_rate,num_epoch = 0.001,10000\n",
    "for epoch in range(num_epoch):\n",
    "    for i,x in enumerate(X):\n",
    "        y_pred  = forward(x)\n",
    "        l       = loss(y_pred,Y[i])\n",
    "        dw      = gradient(x,Y[i],y_pred)\n",
    "        W       = (W - dw*learning_rate)\n",
    "    # print(f'epoch:{epoch} | loss:{l:.8f}')\n",
    "print(W)"
   ]
  },
  {
   "attachments": {},
   "cell_type": "markdown",
   "id": "cb846c69",
   "metadata": {},
   "source": [
    "Question 4: Discussion"
   ]
  },
  {
   "attachments": {},
   "cell_type": "markdown",
   "id": "fd35435d",
   "metadata": {},
   "source": [
    "Question 5: Code"
   ]
  },
  {
   "cell_type": "code",
   "execution_count": 16,
   "id": "8b6bded1",
   "metadata": {},
   "outputs": [],
   "source": [
    "step_size = 0.1\n",
    "x1 = np.arange(-4,4,step_size)\n",
    "x2 = np.arange(-4,4,step_size)\n",
    "x1x2 = x1*x2\n",
    "b = np.ones(len(x1))\n",
    "X = np.array([b,x1,x2,x1x2]).T\n",
    "# w1= 3.8, w2= 1.8, w3= 0.5, b= 2.1\n",
    "W_r = np.array([2.1,3.8,1.8,0.5],dtype=np.float32)# r->real\n",
    "W = np.array([0,0,0,0])  # for estimation\n",
    "Y = np.array([x@W_r for x in X],dtype=np.float32)"
   ]
  },
  {
   "cell_type": "code",
   "execution_count": 17,
   "id": "c1ce8bfa",
   "metadata": {},
   "outputs": [],
   "source": [
    "def forward(X):\n",
    "    return np.dot(X,W)\n",
    "def loss(Y,Y_pred):\n",
    "    return ((np.linalg.norm(Y_pred-Y))**2)\n",
    "def gradient(X,Y,Y_pred):\n",
    "    return X*(Y_pred-Y)"
   ]
  },
  {
   "cell_type": "code",
   "execution_count": 18,
   "id": "bebedf1f",
   "metadata": {},
   "outputs": [
    {
     "name": "stdout",
     "output_type": "stream",
     "text": [
      "[2.09999993 2.79999997 2.79999997 0.50000001]\n"
     ]
    }
   ],
   "source": [
    "learning_rate,num_epoch = 0.001,10000\n",
    "for epoch in range(num_epoch):\n",
    "    for i,x in enumerate(X):\n",
    "        y_pred  = forward(x)\n",
    "        l       = loss(y_pred,Y[i])\n",
    "        dw      = gradient(x,Y[i],y_pred)\n",
    "        W       = (W - dw*learning_rate)\n",
    "    # print(f'epoch:{epoch} | loss:{l:.8f}')\n",
    "print(W)"
   ]
  },
  {
   "attachments": {},
   "cell_type": "markdown",
   "id": "9ddb6c57",
   "metadata": {},
   "source": [
    "Question 5: Discussion"
   ]
  },
  {
   "attachments": {},
   "cell_type": "markdown",
   "id": "b3b776a6",
   "metadata": {},
   "source": [
    "Question 6: Discussion"
   ]
  },
  {
   "attachments": {},
   "cell_type": "markdown",
   "id": "97aea390",
   "metadata": {},
   "source": [
    "Question 7: Discussion"
   ]
  }
 ],
 "metadata": {
  "kernelspec": {
   "display_name": ".venv",
   "language": "python",
   "name": "python3"
  },
  "language_info": {
   "codemirror_mode": {
    "name": "ipython",
    "version": 3
   },
   "file_extension": ".py",
   "mimetype": "text/x-python",
   "name": "python",
   "nbconvert_exporter": "python",
   "pygments_lexer": "ipython3",
   "version": "3.9.13"
  },
  "latex_envs": {
   "LaTeX_envs_menu_present": true,
   "autoclose": true,
   "autocomplete": true,
   "bibliofile": "biblio.bib",
   "cite_by": "apalike",
   "current_citInitial": 1,
   "eqLabelWithNumbers": true,
   "eqNumInitial": 1,
   "hotkeys": {
    "equation": "Ctrl-E",
    "itemize": "Ctrl-I"
   },
   "labels_anchors": false,
   "latex_user_defs": false,
   "report_style_numbering": true,
   "user_envs_cfg": false
  },
  "toc": {
   "base_numbering": 1,
   "nav_menu": {},
   "number_sections": true,
   "sideBar": true,
   "skip_h1_title": true,
   "title_cell": "Table of Contents",
   "title_sidebar": "Contents",
   "toc_cell": true,
   "toc_position": {},
   "toc_section_display": true,
   "toc_window_display": false
  },
  "varInspector": {
   "cols": {
    "lenName": 16,
    "lenType": 16,
    "lenVar": 40
   },
   "kernels_config": {
    "python": {
     "delete_cmd_postfix": "",
     "delete_cmd_prefix": "del ",
     "library": "var_list.py",
     "varRefreshCmd": "print(var_dic_list())"
    },
    "r": {
     "delete_cmd_postfix": ") ",
     "delete_cmd_prefix": "rm(",
     "library": "var_list.r",
     "varRefreshCmd": "cat(var_dic_list()) "
    }
   },
   "types_to_exclude": [
    "module",
    "function",
    "builtin_function_or_method",
    "instance",
    "_Feature"
   ],
   "window_display": false
  }
 },
 "nbformat": 4,
 "nbformat_minor": 5
}
