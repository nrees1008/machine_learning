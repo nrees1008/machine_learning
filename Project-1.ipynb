{
 "cells": [
  {
   "cell_type": "markdown",
   "id": "6a2b882d",
   "metadata": {
    "toc": true
   },
   "source": [
    "<h1>Table of Contents<span class=\"tocSkip\"></span></h1>\n",
    "<div class=\"toc\"><ul class=\"toc-item\"></ul></div>"
   ]
  },
  {
   "cell_type": "markdown",
   "id": "dd948b89",
   "metadata": {},
   "source": [
    "# Course Project 1"
   ]
  },
  {
   "cell_type": "markdown",
   "id": "c02242ad",
   "metadata": {},
   "source": [
    "**Policy**\n",
    "\n",
    "1. You may use your own or any software packages/module/codes to do this project. \n",
    "2. The project has to be done in groups of 2-4 persons each working together to complete all the tasks. Only on report for a group needs to be submitted. \n",
    "3. You shall form your own group. The same group may work together again in the 2nd (final) course project. \n",
    "4. The report should be no more than 20 pages, including one page describing the contributions of each of the members in the group, figures, tables and codes. \n",
    "5. You are encouraged to do beyond the described tasks along with the central topic. Quality and innovative work will be greatly rewarded. "
   ]
  },
  {
   "cell_type": "markdown",
   "id": "44e735ed",
   "metadata": {},
   "source": [
    "**Problem statement**\n",
    "\n",
    "Consider a problem with 2 feature variables, $\\mathbf{x}=[x_1 \\;\\;\\; x_2]$ where $-4.0 \\le x_1 \\le 4.0$, and $-4.0 \\le x_2 \\le 4.0 $. Assume a true label function has the following form known as by-linear function:  \n",
    "\n",
    "\\begin{equation} \\label{eqHW3-1}\n",
    "y(\\mathbf{x})= c_0 + c_1 x_1 + c_2 x_2 + c_3 x_1 x_2\n",
    "\\end{equation} \n",
    "\n",
    "where $c_i (i=0,1,2,3) $ are given constants of real scalar numbers. In the numerical study, use:\n",
    "\n",
    "\\begin{equation} \\label{eqHW3-2}\n",
    "c_0 = 2.1, c_1 = 3.8, c_2 = 1.8, c_3 = 0.5 \n",
    "\\end{equation}  \n",
    "\n",
    "1. Construct a prediction function with proper set of learning parameters, that is capable of predicting the true label function. Define a loss function, and use it to design a possible procedure that is capable of leading to a correct prediction analytically. \n",
    "\n",
    "2. Use a dataset with 4 data points. Define a proper loss function and derive formulas that leads to a unique solution in predicting the true label function analytically. Discuss about the conditions for the uniqueness. \n",
    "\n",
    "3. Create quality dataset each with sufficient number of numerical data points with the numerical label values, using the given true label function. Define a proper loss function and a (Python) code to make predictions. Show that the constants given in Eq.(\\ref{eqHW3-2}) are reproduced from the dataset created by your code. Test your code thoroughly, provide proper conditions on safe-use of your code, and list also possible issues when using your code. \n",
    "\n",
    "4. Create poor dataset that has deficiency in the data matrix. Repeat task 3 and discuss about the possible problems, find a solution to overcome it, and test you solution in a code. \n",
    "\n",
    "5. Create poor dataset that has sufficient data points, but with parallel data points. Repeat task 3 and discuss about the possible problems, find a solution to overcome it, and test you solution in a code.\n",
    "\n",
    "6. Discuss possible issues if the features space dimension is very high, say $p=10,000$. \n",
    "\n",
    "7. Discuss your strategy to construct a neural network to do task 3. "
   ]
  },
  {
   "attachments": {},
   "cell_type": "markdown",
   "id": "949b6426",
   "metadata": {},
   "source": [
    "Question 1"
   ]
  },
  {
   "attachments": {},
   "cell_type": "markdown",
   "id": "11d45b92",
   "metadata": {},
   "source": [
    "Question 2"
   ]
  },
  {
   "attachments": {},
   "cell_type": "markdown",
   "id": "7be2428c",
   "metadata": {},
   "source": [
    "Question 3"
   ]
  },
  {
   "attachments": {},
   "cell_type": "markdown",
   "id": "97aefd60",
   "metadata": {},
   "source": [
    "Question 4"
   ]
  },
  {
   "attachments": {},
   "cell_type": "markdown",
   "id": "fd35435d",
   "metadata": {},
   "source": [
    "Question 5"
   ]
  },
  {
   "attachments": {},
   "cell_type": "markdown",
   "id": "b3b776a6",
   "metadata": {},
   "source": [
    "Question 6"
   ]
  },
  {
   "attachments": {},
   "cell_type": "markdown",
   "id": "97aea390",
   "metadata": {},
   "source": [
    "Question 7"
   ]
  },
  {
   "attachments": {},
   "cell_type": "markdown",
   "id": "785061c2",
   "metadata": {},
   "source": [
    "Question 8"
   ]
  }
 ],
 "metadata": {
  "kernelspec": {
   "display_name": "Machine_Learning",
   "language": "python",
   "name": "machine_learning"
  },
  "language_info": {
   "codemirror_mode": {
    "name": "ipython",
    "version": 3
   },
   "file_extension": ".py",
   "mimetype": "text/x-python",
   "name": "python",
   "nbconvert_exporter": "python",
   "pygments_lexer": "ipython3",
   "version": "3.7.16"
  },
  "latex_envs": {
   "LaTeX_envs_menu_present": true,
   "autoclose": true,
   "autocomplete": true,
   "bibliofile": "biblio.bib",
   "cite_by": "apalike",
   "current_citInitial": 1,
   "eqLabelWithNumbers": true,
   "eqNumInitial": 1,
   "hotkeys": {
    "equation": "Ctrl-E",
    "itemize": "Ctrl-I"
   },
   "labels_anchors": false,
   "latex_user_defs": false,
   "report_style_numbering": true,
   "user_envs_cfg": false
  },
  "toc": {
   "base_numbering": 1,
   "nav_menu": {},
   "number_sections": true,
   "sideBar": true,
   "skip_h1_title": true,
   "title_cell": "Table of Contents",
   "title_sidebar": "Contents",
   "toc_cell": true,
   "toc_position": {},
   "toc_section_display": true,
   "toc_window_display": false
  },
  "varInspector": {
   "cols": {
    "lenName": 16,
    "lenType": 16,
    "lenVar": 40
   },
   "kernels_config": {
    "python": {
     "delete_cmd_postfix": "",
     "delete_cmd_prefix": "del ",
     "library": "var_list.py",
     "varRefreshCmd": "print(var_dic_list())"
    },
    "r": {
     "delete_cmd_postfix": ") ",
     "delete_cmd_prefix": "rm(",
     "library": "var_list.r",
     "varRefreshCmd": "cat(var_dic_list()) "
    }
   },
   "types_to_exclude": [
    "module",
    "function",
    "builtin_function_or_method",
    "instance",
    "_Feature"
   ],
   "window_display": false
  }
 },
 "nbformat": 4,
 "nbformat_minor": 5
}
